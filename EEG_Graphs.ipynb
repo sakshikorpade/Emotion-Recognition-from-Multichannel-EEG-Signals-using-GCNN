{
  "nbformat": 4,
  "nbformat_minor": 0,
  "metadata": {
    "colab": {
      "name": "EEG_Graphs.ipynb",
      "provenance": [],
      "collapsed_sections": [],
      "include_colab_link": true
    },
    "kernelspec": {
      "display_name": "Python 3",
      "name": "python3"
    },
    "language_info": {
      "name": "python"
    }
  },
  "cells": [
    {
      "cell_type": "markdown",
      "metadata": {
        "id": "view-in-github",
        "colab_type": "text"
      },
      "source": [
        "<a href=\"https://colab.research.google.com/github/sakshikorpade/Emotion-Recognition-from-Multichannel-EEG-Signals-using-GCNN/blob/main/EEG_Graphs.ipynb\" target=\"_parent\"><img src=\"https://colab.research.google.com/assets/colab-badge.svg\" alt=\"Open In Colab\"/></a>"
      ]
    },
    {
      "cell_type": "code",
      "metadata": {
        "colab": {
          "base_uri": "https://localhost:8080/"
        },
        "id": "keGZlGKsnKNJ",
        "outputId": "ffa79233-eb2f-416b-89f3-55fefe090e31"
      },
      "source": [
        "!pip install visibility_graph"
      ],
      "execution_count": null,
      "outputs": [
        {
          "output_type": "stream",
          "text": [
            "Collecting visibility_graph\n",
            "  Downloading https://files.pythonhosted.org/packages/fb/2c/63fc582b9fa0fcbc34262fbafbd1715e506527c051f679402691c908a769/visibility_graph-0.4.1-py3-none-any.whl\n",
            "Requirement already satisfied: networkx in /usr/local/lib/python3.7/dist-packages (from visibility_graph) (2.5.1)\n",
            "Requirement already satisfied: decorator<5,>=4.3 in /usr/local/lib/python3.7/dist-packages (from networkx->visibility_graph) (4.4.2)\n",
            "Installing collected packages: visibility-graph\n",
            "Successfully installed visibility-graph-0.4.1\n"
          ],
          "name": "stdout"
        }
      ]
    },
    {
      "cell_type": "code",
      "metadata": {
        "colab": {
          "base_uri": "https://localhost:8080/"
        },
        "id": "gEtfzWVanLpk",
        "outputId": "47750746-ae49-4e95-f7f2-59e030f2ddc9"
      },
      "source": [
        "!pip install imgaug==0.2.6"
      ],
      "execution_count": null,
      "outputs": [
        {
          "output_type": "stream",
          "text": [
            "Collecting imgaug==0.2.6\n",
            "\u001b[?25l  Downloading https://files.pythonhosted.org/packages/ad/2e/748dbb7bb52ec8667098bae9b585f448569ae520031932687761165419a2/imgaug-0.2.6.tar.gz (631kB)\n",
            "\r\u001b[K     |▌                               | 10kB 12.0MB/s eta 0:00:01\r\u001b[K     |█                               | 20kB 17.3MB/s eta 0:00:01\r\u001b[K     |█▋                              | 30kB 21.2MB/s eta 0:00:01\r\u001b[K     |██                              | 40kB 23.5MB/s eta 0:00:01\r\u001b[K     |██▋                             | 51kB 16.7MB/s eta 0:00:01\r\u001b[K     |███▏                            | 61kB 12.6MB/s eta 0:00:01\r\u001b[K     |███▋                            | 71kB 12.0MB/s eta 0:00:01\r\u001b[K     |████▏                           | 81kB 12.9MB/s eta 0:00:01\r\u001b[K     |████▊                           | 92kB 13.2MB/s eta 0:00:01\r\u001b[K     |█████▏                          | 102kB 13.9MB/s eta 0:00:01\r\u001b[K     |█████▊                          | 112kB 13.9MB/s eta 0:00:01\r\u001b[K     |██████▎                         | 122kB 13.9MB/s eta 0:00:01\r\u001b[K     |██████▊                         | 133kB 13.9MB/s eta 0:00:01\r\u001b[K     |███████▎                        | 143kB 13.9MB/s eta 0:00:01\r\u001b[K     |███████▉                        | 153kB 13.9MB/s eta 0:00:01\r\u001b[K     |████████▎                       | 163kB 13.9MB/s eta 0:00:01\r\u001b[K     |████████▉                       | 174kB 13.9MB/s eta 0:00:01\r\u001b[K     |█████████▍                      | 184kB 13.9MB/s eta 0:00:01\r\u001b[K     |█████████▉                      | 194kB 13.9MB/s eta 0:00:01\r\u001b[K     |██████████▍                     | 204kB 13.9MB/s eta 0:00:01\r\u001b[K     |███████████                     | 215kB 13.9MB/s eta 0:00:01\r\u001b[K     |███████████▍                    | 225kB 13.9MB/s eta 0:00:01\r\u001b[K     |████████████                    | 235kB 13.9MB/s eta 0:00:01\r\u001b[K     |████████████▌                   | 245kB 13.9MB/s eta 0:00:01\r\u001b[K     |█████████████                   | 256kB 13.9MB/s eta 0:00:01\r\u001b[K     |█████████████▌                  | 266kB 13.9MB/s eta 0:00:01\r\u001b[K     |██████████████                  | 276kB 13.9MB/s eta 0:00:01\r\u001b[K     |██████████████▌                 | 286kB 13.9MB/s eta 0:00:01\r\u001b[K     |███████████████                 | 296kB 13.9MB/s eta 0:00:01\r\u001b[K     |███████████████▋                | 307kB 13.9MB/s eta 0:00:01\r\u001b[K     |████████████████                | 317kB 13.9MB/s eta 0:00:01\r\u001b[K     |████████████████▋               | 327kB 13.9MB/s eta 0:00:01\r\u001b[K     |█████████████████▏              | 337kB 13.9MB/s eta 0:00:01\r\u001b[K     |█████████████████▋              | 348kB 13.9MB/s eta 0:00:01\r\u001b[K     |██████████████████▏             | 358kB 13.9MB/s eta 0:00:01\r\u001b[K     |██████████████████▊             | 368kB 13.9MB/s eta 0:00:01\r\u001b[K     |███████████████████▏            | 378kB 13.9MB/s eta 0:00:01\r\u001b[K     |███████████████████▊            | 389kB 13.9MB/s eta 0:00:01\r\u001b[K     |████████████████████▎           | 399kB 13.9MB/s eta 0:00:01\r\u001b[K     |████████████████████▊           | 409kB 13.9MB/s eta 0:00:01\r\u001b[K     |█████████████████████▎          | 419kB 13.9MB/s eta 0:00:01\r\u001b[K     |█████████████████████▉          | 430kB 13.9MB/s eta 0:00:01\r\u001b[K     |██████████████████████▎         | 440kB 13.9MB/s eta 0:00:01\r\u001b[K     |██████████████████████▉         | 450kB 13.9MB/s eta 0:00:01\r\u001b[K     |███████████████████████▍        | 460kB 13.9MB/s eta 0:00:01\r\u001b[K     |███████████████████████▉        | 471kB 13.9MB/s eta 0:00:01\r\u001b[K     |████████████████████████▍       | 481kB 13.9MB/s eta 0:00:01\r\u001b[K     |█████████████████████████       | 491kB 13.9MB/s eta 0:00:01\r\u001b[K     |█████████████████████████▍      | 501kB 13.9MB/s eta 0:00:01\r\u001b[K     |██████████████████████████      | 512kB 13.9MB/s eta 0:00:01\r\u001b[K     |██████████████████████████▌     | 522kB 13.9MB/s eta 0:00:01\r\u001b[K     |███████████████████████████     | 532kB 13.9MB/s eta 0:00:01\r\u001b[K     |███████████████████████████▌    | 542kB 13.9MB/s eta 0:00:01\r\u001b[K     |████████████████████████████    | 552kB 13.9MB/s eta 0:00:01\r\u001b[K     |████████████████████████████▌   | 563kB 13.9MB/s eta 0:00:01\r\u001b[K     |█████████████████████████████   | 573kB 13.9MB/s eta 0:00:01\r\u001b[K     |█████████████████████████████▋  | 583kB 13.9MB/s eta 0:00:01\r\u001b[K     |██████████████████████████████  | 593kB 13.9MB/s eta 0:00:01\r\u001b[K     |██████████████████████████████▋ | 604kB 13.9MB/s eta 0:00:01\r\u001b[K     |███████████████████████████████▏| 614kB 13.9MB/s eta 0:00:01\r\u001b[K     |███████████████████████████████▋| 624kB 13.9MB/s eta 0:00:01\r\u001b[K     |████████████████████████████████| 634kB 13.9MB/s \n",
            "\u001b[?25hRequirement already satisfied: scipy in /usr/local/lib/python3.7/dist-packages (from imgaug==0.2.6) (1.4.1)\n",
            "Requirement already satisfied: scikit-image>=0.11.0 in /usr/local/lib/python3.7/dist-packages (from imgaug==0.2.6) (0.16.2)\n",
            "Requirement already satisfied: numpy>=1.7.0 in /usr/local/lib/python3.7/dist-packages (from imgaug==0.2.6) (1.19.5)\n",
            "Requirement already satisfied: six in /usr/local/lib/python3.7/dist-packages (from imgaug==0.2.6) (1.15.0)\n",
            "Requirement already satisfied: pillow>=4.3.0 in /usr/local/lib/python3.7/dist-packages (from scikit-image>=0.11.0->imgaug==0.2.6) (7.1.2)\n",
            "Requirement already satisfied: PyWavelets>=0.4.0 in /usr/local/lib/python3.7/dist-packages (from scikit-image>=0.11.0->imgaug==0.2.6) (1.1.1)\n",
            "Requirement already satisfied: matplotlib!=3.0.0,>=2.0.0 in /usr/local/lib/python3.7/dist-packages (from scikit-image>=0.11.0->imgaug==0.2.6) (3.2.2)\n",
            "Requirement already satisfied: networkx>=2.0 in /usr/local/lib/python3.7/dist-packages (from scikit-image>=0.11.0->imgaug==0.2.6) (2.5.1)\n",
            "Requirement already satisfied: imageio>=2.3.0 in /usr/local/lib/python3.7/dist-packages (from scikit-image>=0.11.0->imgaug==0.2.6) (2.4.1)\n",
            "Requirement already satisfied: kiwisolver>=1.0.1 in /usr/local/lib/python3.7/dist-packages (from matplotlib!=3.0.0,>=2.0.0->scikit-image>=0.11.0->imgaug==0.2.6) (1.3.1)\n",
            "Requirement already satisfied: cycler>=0.10 in /usr/local/lib/python3.7/dist-packages (from matplotlib!=3.0.0,>=2.0.0->scikit-image>=0.11.0->imgaug==0.2.6) (0.10.0)\n",
            "Requirement already satisfied: pyparsing!=2.0.4,!=2.1.2,!=2.1.6,>=2.0.1 in /usr/local/lib/python3.7/dist-packages (from matplotlib!=3.0.0,>=2.0.0->scikit-image>=0.11.0->imgaug==0.2.6) (2.4.7)\n",
            "Requirement already satisfied: python-dateutil>=2.1 in /usr/local/lib/python3.7/dist-packages (from matplotlib!=3.0.0,>=2.0.0->scikit-image>=0.11.0->imgaug==0.2.6) (2.8.1)\n",
            "Requirement already satisfied: decorator<5,>=4.3 in /usr/local/lib/python3.7/dist-packages (from networkx>=2.0->scikit-image>=0.11.0->imgaug==0.2.6) (4.4.2)\n",
            "Building wheels for collected packages: imgaug\n",
            "  Building wheel for imgaug (setup.py) ... \u001b[?25l\u001b[?25hdone\n",
            "  Created wheel for imgaug: filename=imgaug-0.2.6-cp37-none-any.whl size=654019 sha256=7919d22df8b9baad6698dc27b81f56b190b5db11503e05dbf678534a3f0d2f10\n",
            "  Stored in directory: /root/.cache/pip/wheels/97/ec/48/0d25896c417b715af6236dbcef8f0bed136a1a5e52972fc6d0\n",
            "Successfully built imgaug\n",
            "Installing collected packages: imgaug\n",
            "  Found existing installation: imgaug 0.2.9\n",
            "    Uninstalling imgaug-0.2.9:\n",
            "      Successfully uninstalled imgaug-0.2.9\n",
            "Successfully installed imgaug-0.2.6\n"
          ],
          "name": "stdout"
        }
      ]
    },
    {
      "cell_type": "code",
      "metadata": {
        "id": "hfDed7OdnNYo",
        "colab": {
          "base_uri": "https://localhost:8080/"
        },
        "outputId": "c1570d49-df19-4485-ce20-8d4205036ecf"
      },
      "source": [
        "!pip install networkx==2.3"
      ],
      "execution_count": null,
      "outputs": [
        {
          "output_type": "stream",
          "text": [
            "Collecting networkx==2.3\n",
            "\u001b[?25l  Downloading https://files.pythonhosted.org/packages/85/08/f20aef11d4c343b557e5de6b9548761811eb16e438cee3d32b1c66c8566b/networkx-2.3.zip (1.7MB)\n",
            "\u001b[K     |████████████████████████████████| 1.8MB 14.0MB/s \n",
            "\u001b[?25hRequirement already satisfied: decorator>=4.3.0 in /usr/local/lib/python3.7/dist-packages (from networkx==2.3) (4.4.2)\n",
            "Building wheels for collected packages: networkx\n",
            "  Building wheel for networkx (setup.py) ... \u001b[?25l\u001b[?25hdone\n",
            "  Created wheel for networkx: filename=networkx-2.3-py2.py3-none-any.whl size=1556427 sha256=a64118fbc158b3eabdca6b7cc287fd304ba5db733eb50f6596a2fab102b32ad1\n",
            "  Stored in directory: /root/.cache/pip/wheels/de/63/64/3699be2a9d0ccdb37c7f16329acf3863fd76eda58c39c737af\n",
            "Successfully built networkx\n",
            "Installing collected packages: networkx\n",
            "  Found existing installation: networkx 2.5.1\n",
            "    Uninstalling networkx-2.5.1:\n",
            "      Successfully uninstalled networkx-2.5.1\n",
            "Successfully installed networkx-2.3\n"
          ],
          "name": "stdout"
        }
      ]
    },
    {
      "cell_type": "code",
      "metadata": {
        "id": "X-usSJQWm0MB",
        "colab": {
          "base_uri": "https://localhost:8080/"
        },
        "outputId": "736a2614-89b0-4bdc-f24f-070d7f7d7c87"
      },
      "source": [
        "from visibility_graph import visibility_graph\n",
        "import pandas as pd\n",
        "from pandas import read_csv\n",
        "from matplotlib import pyplot as plt\n",
        "import math\n",
        "import numpy as np\n",
        "import networkx as nx\n",
        "from itertools import repeat\n",
        "import functools\n",
        "from scipy.sparse import csr_matrix\n",
        "from sklearn.externals import joblib"
      ],
      "execution_count": null,
      "outputs": [
        {
          "output_type": "stream",
          "text": [
            "/usr/local/lib/python3.7/dist-packages/sklearn/externals/joblib/__init__.py:15: FutureWarning: sklearn.externals.joblib is deprecated in 0.21 and will be removed in 0.23. Please import this functionality directly from joblib, which can be installed with: pip install joblib. If this warning is raised when loading pickled models, you may need to re-serialize those models with scikit-learn 0.21+.\n",
            "  warnings.warn(msg, category=FutureWarning)\n"
          ],
          "name": "stderr"
        }
      ]
    },
    {
      "cell_type": "code",
      "metadata": {
        "id": "oRvvXBMZnnD6",
        "colab": {
          "base_uri": "https://localhost:8080/"
        },
        "outputId": "ee84057d-557c-4ce1-b8b4-66cb009e03da"
      },
      "source": [
        "a_file = open(\"eeg.txt\")\n",
        "\n",
        "lines = a_file.readlines()[1:]\n",
        "result = []\n",
        "result1 = []\n",
        "for x in lines:\n",
        "    result.append(x.split('\\t')[0])\n",
        "    result1.append(x.split('\\t')[1])\n",
        "a_file.close()\n",
        "result = np.array(result)\n",
        "result = result.astype(float)\n",
        "result1 = np.array(result1)\n",
        "result1 = result1.astype(float)\n",
        "#result = result[result > 720]\n",
        "#result = result[result <= 1320]\n",
        "#print(len(result))\n",
        "#print(result1)\n",
        "#print(len(result1))\n",
        "\n",
        "i1 = np.where(result == 0.169)\n",
        "i1 = functools.reduce(lambda sub, ele: sub * 10 + ele, i1)\n",
        "i1 = len(i1)-1\n",
        "print(i1)\n",
        "i2 = np.where(result <= 5.00)\n",
        "i2 = functools.reduce(lambda sub, ele: sub * 10 + ele, i2)\n",
        "i2 = len(i2)-1\n",
        "print(i2)\n",
        "print(i2 - i1)\n",
        "result1 = result1[i1:i2+1]\n",
        "print(result1)\n",
        "x_axis = np.arange(0, len(result1), 1)"
      ],
      "execution_count": null,
      "outputs": [
        {
          "output_type": "stream",
          "text": [
            "0\n",
            "461\n",
            "461\n",
            "[  0.    0.  105.7  81.6 105.7  81.6 105.7  81.6 -15.6 -11.1 -15.6 -11.1\n",
            " -15.6 -11.1 -15.6 -11.1 -15.6 -11.1 -15.6 -11.1 -15.6 -11.1 -15.6 -11.1\n",
            "  -8.4 -17.5  -8.4 -17.5  -8.4 -17.5 -15.   -9.8 -15.   -9.8 -15.   -9.8\n",
            " -15.   -9.8 -15.   -9.8 -15.   -9.8 -15.   -9.8 -12.6 -13.3 -12.6 -13.3\n",
            " -12.6 -13.3 -12.6 -13.3 -14.6  -3.3 -14.6  -3.3 -14.6  -3.3 -14.6  -3.3\n",
            " -14.6  -3.3 -14.6  -3.3 -14.6  -3.3 -10.5 -13.6 -10.5 -13.6 -10.5 -13.6\n",
            " -10.5 -13.6 -17.4 -23.6 -21.4 -21.5 -21.4 -21.5 -21.4 -21.5 -21.4 -21.5\n",
            " -21.4 -21.5 -21.4 -21.5 -21.4 -21.5 -16.5  -6.2 -16.5  -6.2 -16.5  -6.2\n",
            " -16.5  -6.2  -7.  -14.6  -7.  -14.6  -7.  -14.6  -7.  -14.6  -7.  -14.6\n",
            "  -7.  -14.6  -7.  -14.6 -27.8 -18.8 -27.8 -18.8 -27.8 -18.8 -27.8 -18.8\n",
            " -27.8 -18.8 -10.7 -29.8 -10.7 -29.8 -10.7 -29.8 -10.7 -29.8 -10.7 -29.8\n",
            " -10.7 -29.8  -4.4 -19.7  -4.4 -19.7  -4.4 -19.7  -4.4 -19.7 -31.2 -22.6\n",
            " -31.2 -22.6 -31.2 -22.6 -31.2 -22.6 -31.2 -22.6 -31.2 -22.6 -31.2 -22.6\n",
            " -24.8 -22.5 -24.8 -22.5 -24.8 -22.5 -24.8 -22.5 -17.7 -12.  -21.1 -20.4\n",
            " -21.1 -20.4 -21.1 -20.4 -21.1 -20.4 -21.1 -20.4 -21.1 -20.4 -21.1 -20.4\n",
            " -23.1 -25.2 -23.1 -25.2 -23.1 -25.2 -23.1 -25.2 -26.8 -29.7 -26.8 -29.7\n",
            " -26.8 -29.7 -26.8 -29.7 -26.8 -29.7 -26.8 -29.7 -26.8 -29.7 -25.  -23.2\n",
            " -25.  -23.2 -25.  -23.2 -25.  -23.2 -25.3 -31.  -25.3 -31.  -25.3 -31.\n",
            " -25.3 -31.  -25.3 -31.  -25.3 -31.  -25.3 -31.  -30.2 -22.1 -30.2 -22.1\n",
            " -30.2 -22.1 -30.2 -22.1 -22.9 -22.2   5.3   1.4  -7.1 -15.  -20.3 -20.6\n",
            " -24.8 -28.6 -15.8  -2.4  19.   17.1   9.6  -5.6  -9.7 -13.8 -25.   -5.8\n",
            "  -3.3   5.8  15.1   2.8  -4.6  -0.5  -6.9 -11.4 -14.6 -17.4  -3.4  -5.8\n",
            "  -8.3  -1.9 -19.  -20.3 -26.7 -22.9 -20.3 -18.7  -5.4 -11.1 -24.8 -13.8\n",
            " -13.5 -26.1 -28.2 -26.8  87.5  87.5  77.3  62.3  39.7  44.6  33.1  22.4\n",
            "  19.   16.1   9.6  -2.  -13.6  -9.9 -13.7 -19.6 -25.3 -11.9 -14.3  -4.5\n",
            "  -5.6 -15.5  -8.7   6.1   1.5  -1.5  -8.    2.5  10.4 -14.3 -10.9 -19.1\n",
            " -15.4 -13.2 -17.2 -22.4 -17.6 -15.8 -19.6 -22.9 -15.  -10.4  -2.2  -4.4\n",
            "  -1.8   2.5 -14.9 -13.4   1.7 -10.4  -2.7   7.   -6.2  -7.7  -6.1  -9.7\n",
            "  -7.7  -8.8  -9.2 -21.4 -19.7  -7.1  -8.1 -10.2 -11.8 -11.  -15.7 -18.8\n",
            " -10.3 -13.1 -13.6 -23.1 -23.9  -5.6  -3.3  -9.4 -13.3 -20.5 -29.  -33.3\n",
            " -25.4 -19.6 -18.2 -11.8 -12.4  -3.1  -9.6 -16.8 -21.7 -28.2 -28.3 -26.5\n",
            " -18.2 -10.7 -12.6 -16.8 -17.1  -7.3  -9.6 -21.4 -19.7 -17.8 -18.  -13.4\n",
            "   0.   -5.4 -13.6 -19.  -21.7 -22.3 -15.8 -12.5  -6.7 -10.9  10.5   4.8\n",
            "  -2.3 -50.  -65.4 -65.5 -62.  -56.5 -43.9 -50.4 -62.8 -80.  -65.6 -65.9\n",
            " -56.  -58.8 -51.4 -40.8 -43.5 -34.7 -46.7 -43.1 -46.7 -45.1 -39.6 -46.3\n",
            " -40.4 -48.6 -51.3 -38.4 -37.5 -21.7 -31.5 -44.9 -35.6 -45.2 -28.1 -33.1\n",
            " -33.2 -29.3 -41.9 -39.1 -27.7 -24.4 -30.3 -11.6   5.   25.3  25.4  35.7\n",
            "  45.4  32.   44.   35.3  24.3  28.2  20.1  16.6  29.4  27.7  22.3  18.7\n",
            "  26.6  22.   15.8  21.5  12.3  10.2]\n"
          ],
          "name": "stdout"
        }
      ]
    },
    {
      "cell_type": "code",
      "metadata": {
        "id": "Pb5gUSUNVjGz",
        "colab": {
          "base_uri": "https://localhost:8080/",
          "height": 238
        },
        "outputId": "2cdb866e-70d0-4cfc-c9ab-b9b366d591ac"
      },
      "source": [
        "# Creating dataset\n",
        "marks = np.array([70, 50, 40, 90, 55, 85, 74, 66, 33, 11, 45, 36, 89])\n",
        "  \n",
        "# Creating histogram\n",
        "fig, ax = plt.subplots(1, 1)\n",
        "ax.hist(marks)\n",
        "  \n",
        "# Set title\n",
        "ax.set_title(\"Title\")\n",
        "  \n",
        "# adding labels\n",
        "ax.set_xlabel('x-label')\n",
        "ax.set_ylabel('y-label')\n",
        "  \n",
        "# Make some labels.\n",
        "rects = ax.patches\n",
        "labels = [\"label%d\" % i for i in range(len(rects))]\n",
        "  \n",
        "for rect, label in zip(rects, labels):\n",
        "    height = rect.get_height()\n",
        "    ax.text(rect.get_x() + rect.get_width() / 2, height+0.01, label,\n",
        "            ha='center', va='bottom')\n",
        "  \n",
        "# Show plot\n",
        "plt.show()"
      ],
      "execution_count": null,
      "outputs": [
        {
          "output_type": "error",
          "ename": "AttributeError",
          "evalue": "ignored",
          "traceback": [
            "\u001b[0;31m---------------------------------------------------------------------------\u001b[0m",
            "\u001b[0;31mAttributeError\u001b[0m                            Traceback (most recent call last)",
            "\u001b[0;32m<ipython-input-57-c6434d0b41bf>\u001b[0m in \u001b[0;36m<module>\u001b[0;34m()\u001b[0m\n\u001b[1;32m      3\u001b[0m \u001b[0;34m\u001b[0m\u001b[0m\n\u001b[1;32m      4\u001b[0m \u001b[0;31m# Creating histogram\u001b[0m\u001b[0;34m\u001b[0m\u001b[0;34m\u001b[0m\u001b[0;34m\u001b[0m\u001b[0m\n\u001b[0;32m----> 5\u001b[0;31m \u001b[0mfig\u001b[0m\u001b[0;34m,\u001b[0m \u001b[0max\u001b[0m \u001b[0;34m=\u001b[0m \u001b[0mplt\u001b[0m\u001b[0;34m.\u001b[0m\u001b[0msubplots\u001b[0m\u001b[0;34m(\u001b[0m\u001b[0;36m1\u001b[0m\u001b[0;34m,\u001b[0m \u001b[0;36m1\u001b[0m\u001b[0;34m)\u001b[0m\u001b[0;34m\u001b[0m\u001b[0;34m\u001b[0m\u001b[0m\n\u001b[0m\u001b[1;32m      6\u001b[0m \u001b[0max\u001b[0m\u001b[0;34m.\u001b[0m\u001b[0mhist\u001b[0m\u001b[0;34m(\u001b[0m\u001b[0mmarks\u001b[0m\u001b[0;34m)\u001b[0m\u001b[0;34m\u001b[0m\u001b[0;34m\u001b[0m\u001b[0m\n\u001b[1;32m      7\u001b[0m \u001b[0;34m\u001b[0m\u001b[0m\n",
            "\u001b[0;31mAttributeError\u001b[0m: 'AxesSubplot' object has no attribute 'subplots'"
          ]
        }
      ]
    },
    {
      "cell_type": "code",
      "metadata": {
        "colab": {
          "base_uri": "https://localhost:8080/",
          "height": 289
        },
        "id": "5Q4FvzuanYtu",
        "outputId": "e84c514c-3656-4b61-a02b-3daa3260fdbb"
      },
      "source": [
        "series = [5, 4.7, 4, 4.5, 4.8, 6, 0]\n",
        "x_axis = np.arange(0, len(series), 1)\n",
        "plt.bar(x_axis, series, width = 0.2, label = \"Nodes\")\n",
        "plt.style.use('fivethirtyeight')\n",
        "plt.xlabel(\"Nodes\")\n",
        "plt.ylabel(\"Time Series Values\")\n",
        "plt.legend(loc=\"upper right\")\n",
        "plt.title(\"The Histogram of Time Series\")\n",
        "plt.grid(False)\n",
        "plt.tight_layout()\n",
        "plt.show()"
      ],
      "execution_count": null,
      "outputs": [
        {
          "output_type": "display_data",
          "data": {
            "image/png": "[encoded data removed]",
            "text/plain": [
              "<Figure size 432x288 with 1 Axes>"
            ]
          },
          "metadata": {
            "tags": []
          }
        }
      ]
    },
    {
      "cell_type": "code",
      "metadata": {
        "id": "wmOgAbRF7P7O",
        "colab": {
          "base_uri": "https://localhost:8080/"
        },
        "outputId": "42311d0c-9fb9-4402-e48a-2e23e53ba8d7"
      },
      "source": [
        "# Forward Weighted Horizontal Visibility Graph\n",
        "# Create an weight matrix A\n",
        "\n",
        "list1 = []\n",
        "list2 = []\n",
        "series = [5, 4.7, 4, 4.5, 4.8, 6, 0]\n",
        "\n",
        "for i in range(0, len(series)):\n",
        "  count = 1\n",
        "  list1.append(i)\n",
        "  list2.append(i+count)\n",
        "  if ((i+count+1) == len(series)):\n",
        "    break\n",
        "#  while ((series[i+count+1] <= series[i]) and (series[i] >= series[i+count]) and (series[i+count] <= series[i+count+1])):\n",
        "  while ((series[i+count] <= series[i+count+1]) and (series[i] >= series[i+count])):\n",
        "    list1.append(i)\n",
        "    list2.append(i+count+1)\n",
        "    if (series[i] < series[i+count+1]):\n",
        "      break\n",
        "    count = count+1\n",
        "    if ((i+count+1) == len(series)):\n",
        "      break\n",
        "    if (series[i+count+1] < series[i+count]):\n",
        "      break\n",
        "#    if ((i+count+1) == len(series)):\n",
        "#      break  \n",
        "#    count = count+1\n",
        "#    if ((i+count+1) == len(series)):\n",
        "#      break \n",
        "\n",
        "joblib.dump(series,  'series.pkl')\n",
        "joblib.dump(list1,  'list1.pkl')\n",
        "joblib.dump(list2,  'list2.pkl')\n",
        "#t = np.arange(0, len(list1), 1)\n",
        "print(list1)\n",
        "print(list2)"
      ],
      "execution_count": null,
      "outputs": [
        {
          "output_type": "stream",
          "text": [
            "[0, 1, 1, 1, 2, 3, 4, 5]\n",
            "[1, 2, 3, 4, 3, 4, 5, 6]\n"
          ],
          "name": "stdout"
        }
      ]
    },
    {
      "cell_type": "code",
      "metadata": {
        "colab": {
          "base_uri": "https://localhost:8080/"
        },
        "id": "lu-76OCnE8Iu",
        "outputId": "f9d603c8-5f70-482a-fd4b-e7a3437005ac"
      },
      "source": [
        "series = [4.8, 4.8, 4.8, 4.8, 4.8, 4.8]\n",
        "g = visibility_graph( series )\n",
        "\n",
        "g.nodes()\n",
        "\n",
        "g.edges()"
      ],
      "execution_count": null,
      "outputs": [
        {
          "output_type": "execute_result",
          "data": {
            "text/plain": [
              "EdgeView([(0, 1), (0, 2), (0, 3), (0, 4), (0, 5), (1, 2), (1, 3), (1, 4), (1, 5), (2, 3), (2, 4), (2, 5), (3, 4), (3, 5), (4, 5)])"
            ]
          },
          "metadata": {
            "tags": []
          },
          "execution_count": 72
        }
      ]
    },
    {
      "cell_type": "code",
      "metadata": {
        "id": "cOt3NgBeYGG5"
      },
      "source": [
        "from google.colab import files\n",
        "#files.download('series.pkl')\n",
        "#files.download('list1.pkl')\n",
        "#files.download('list2.pkl')\n",
        "series = joblib.load('series.pkl') \n",
        "list1 = joblib.load('list1.pkl') \n",
        "list2 = joblib.load('list2.pkl') "
      ],
      "execution_count": null,
      "outputs": []
    },
    {
      "cell_type": "code",
      "metadata": {
        "id": "7yd2KWCBTvdr"
      },
      "source": [
        "a = csr_matrix((len(series), len(series)), dtype = np.float).toarray()\n",
        "for i in range(len(list1)):\n",
        "  a[list1[i]][list2[i]] = round((np.arctan((series[list2[i]]-series[list1[i]])/(list2[i]-list1[i])) + np.arctan(series[list1[i]]/(list2[i]-list1[i]))),3) # rounds the decimal to 3 decimal places\n"
      ],
      "execution_count": null,
      "outputs": []
    },
    {
      "cell_type": "code",
      "metadata": {
        "colab": {
          "base_uri": "https://localhost:8080/"
        },
        "id": "JuPh9VEKZ-1c",
        "outputId": "924ddee0-4514-460b-9fb7-2eb2c61cd909"
      },
      "source": [
        "print(a)"
      ],
      "execution_count": null,
      "outputs": [
        {
          "output_type": "stream",
          "text": [
            "[[0.    0.691 0.979 1.334 0.    0.   ]\n",
            " [0.    0.    1.706 0.    0.    0.   ]\n",
            " [0.    0.    0.    2.298 0.    0.   ]\n",
            " [0.    0.    0.    0.    0.725 1.702]\n",
            " [0.    0.    0.    0.    0.    2.437]\n",
            " [0.    0.    0.    0.    0.    0.   ]]\n"
          ],
          "name": "stdout"
        }
      ]
    },
    {
      "cell_type": "code",
      "metadata": {
        "colab": {
          "base_uri": "https://localhost:8080/",
          "height": 446
        },
        "id": "ue0y2RmYSUO_",
        "outputId": "98e54d54-1dca-412e-bcfa-4448a30886e7"
      },
      "source": [
        "def show_graph_with_labels(list1, list2):\n",
        "    #rows, cols = np.where(Weight_Matrix_Forward != 0)\n",
        "    #values_list = []\n",
        "    #row = rows.tolist()\n",
        "    #col = cols.tolist()\n",
        "    #weight_mat = Weight_Matrix_Forward.tolist()\n",
        "    #for x in range(len(rows)):\n",
        "    #  b = row[x]\n",
        "    #  c = col[x]\n",
        "    #  values_list.append(weight_mat[b][c]) # stores the weights corresponding to the nodes connected\n",
        "    \n",
        "    edges = zip(list1, list2)\n",
        "    gr = nx.DiGraph()\n",
        "    gr.add_edges_from(edges)\n",
        "    \n",
        "    #dummy = zip(rows.tolist(), cols.tolist()) #to create dictionary for edge_labels\n",
        "    #zip_iterator = zip(dummy, values_list)\n",
        "    #edgelabels = dict(zip_iterator)\n",
        "    #print(edgelabels)\n",
        "    f = plt.figure()\n",
        "    f.set_figwidth(20)\n",
        "    f.set_figheight(20)\n",
        "    pos = nx.spring_layout(gr)\n",
        "    #pos = {0: [0,0],\n",
        "    #   1: [1,0],\n",
        "    #   2: [2,0],\n",
        "    #   3: [3,0],\n",
        "    #   4: [4,0],\n",
        "    #   5: [5,0]}\n",
        "\n",
        "    nx.draw(gr, pos, edge_color='black', width=1, linewidths=1,\\\n",
        "            node_size=5, node_color='#c4daef', alpha=0.9)#,\\\n",
        "            #labels={node:node for node in gr.nodes()})\n",
        "    #nx.draw_networkx_edge_labels(gr,pos,edge_labels=edgelabels,font_color='red')\n",
        "\n",
        "\n",
        "\n",
        "    #nx.draw_networkx(gr, node_size=500, nodelist=nodes, node_color='#c4daef')\n",
        "    plt.axis('off')\n",
        "    plt.title(\"Forward Weighted Horizontal Visibility Graph\")\n",
        "    plt.show()\n",
        "\n",
        "#nodes = np.arange(0, len(series), 1)\n",
        "#nodes = nodes.tolist()\n",
        "\n",
        "show_graph_with_labels(list1, list2)"
      ],
      "execution_count": null,
      "outputs": [
        {
          "output_type": "stream",
          "text": [
            "/usr/local/lib/python3.7/dist-packages/networkx/drawing/nx_pylab.py:579: MatplotlibDeprecationWarning: \n",
            "The iterable function was deprecated in Matplotlib 3.1 and will be removed in 3.3. Use np.iterable instead.\n",
            "  if not cb.iterable(width):\n",
            "/usr/local/lib/python3.7/dist-packages/networkx/drawing/nx_pylab.py:676: MatplotlibDeprecationWarning: \n",
            "The iterable function was deprecated in Matplotlib 3.1 and will be removed in 3.3. Use np.iterable instead.\n",
            "  if cb.iterable(node_size):  # many node sizes\n"
          ],
          "name": "stderr"
        },
        {
          "output_type": "display_data",
          "data": {
            "image/png": "[encoded data removed]",
            "text/plain": [
              "<Figure size 432x288 with 1 Axes>"
            ]
          },
          "metadata": {
            "tags": []
          }
        }
      ]
    },
    {
      "cell_type": "code",
      "metadata": {
        "colab": {
          "base_uri": "https://localhost:8080/",
          "height": 441
        },
        "id": "Ze4Yinr5aZef",
        "outputId": "82b2679d-2295-4480-918d-404497986ad2"
      },
      "source": [
        "def show_graph_with_labels(list1, list2, nodes):\n",
        "    #rows, cols = np.where(Weight_Matrix_Forward != 0)\n",
        "    #values_list = []\n",
        "    #row = rows.tolist()\n",
        "    #col = cols.tolist()\n",
        "    #weight_mat = Weight_Matrix_Forward.tolist()\n",
        "    #for x in range(len(rows)):\n",
        "    #  b = row[x]\n",
        "    #  c = col[x]\n",
        "    #  values_list.append(weight_mat[b][c]) # stores the weights corresponding to the nodes connected\n",
        "    \n",
        "    edges = zip(list1, list2)\n",
        "    gr = nx.DiGraph()\n",
        "    gr.add_edges_from(edges)\n",
        "    \n",
        "    #dummy = zip(rows.tolist(), cols.tolist()) #to create dictionary for edge_labels\n",
        "    #zip_iterator = zip(dummy, values_list)\n",
        "    #edgelabels = dict(zip_iterator)\n",
        "    #print(edgelabels)\n",
        "\n",
        "    #pos = nx.spring_layout(gr)\n",
        "    #pos = {0: [0,0],\n",
        "    #   1: [1,0],\n",
        "    #   2: [2,0],\n",
        "    #   3: [3,0],\n",
        "    #   4: [4,0],\n",
        "    #   5: [5,0]}\n",
        "\n",
        "    #nx.draw(gr, pos, edge_color='black', width=1, linewidths=1,\\\n",
        "    #        node_size=5, node_color='#c4daef', alpha=0.9,\\\n",
        "    #        labels={node:node for node in gr.nodes()})\n",
        "    #nx.draw_networkx_edge_labels(gr,pos,edge_labels=edgelabels,font_color='red')\n",
        "\n",
        "\n",
        "\n",
        "    #nx.draw_networkx(gr, node_size=500, nodelist=nodes, node_color='#c4daef')\n",
        "    #plt.axis('off')\n",
        "    plt.figure()\n",
        "    nx.draw(gr, node_color ='green')\n",
        "    plt.title(\"Forward Weighted Horizontal Visibility Graph\")\n",
        "    plt.show()\n",
        "\n",
        "nodes = np.arange(0, len(series), 1)\n",
        "nodes = nodes.tolist()\n",
        "\n",
        "show_graph_with_labels(list1, list2, nodes)"
      ],
      "execution_count": null,
      "outputs": [
        {
          "output_type": "stream",
          "text": [
            "/usr/local/lib/python3.7/dist-packages/networkx/drawing/nx_pylab.py:579: MatplotlibDeprecationWarning: \n",
            "The iterable function was deprecated in Matplotlib 3.1 and will be removed in 3.3. Use np.iterable instead.\n",
            "  if not cb.iterable(width):\n",
            "/usr/local/lib/python3.7/dist-packages/networkx/drawing/nx_pylab.py:676: MatplotlibDeprecationWarning: \n",
            "The iterable function was deprecated in Matplotlib 3.1 and will be removed in 3.3. Use np.iterable instead.\n",
            "  if cb.iterable(node_size):  # many node sizes\n"
          ],
          "name": "stderr"
        },
        {
          "output_type": "display_data",
          "data": {
            "image/png": "[encoded data removed]",
            "text/plain": [
              "<Figure size 432x288 with 1 Axes>"
            ]
          },
          "metadata": {
            "tags": []
          }
        }
      ]
    },
    {
      "cell_type": "code",
      "metadata": {
        "colab": {
          "base_uri": "https://localhost:8080/",
          "height": 543
        },
        "id": "3IUti3HS6nLc",
        "outputId": "273989cc-c798-4841-f9ad-eb04a9232a12"
      },
      "source": [
        "def solve (N, Q, A, query):\n",
        "    # Type your code here\n",
        "    sum = 0\n",
        "    print(query)\n",
        "    for i in range(query):\n",
        "      q = query[i]\n",
        "      if q[0] == 0:\n",
        "        for j in range (q[1], q[2]+1):\n",
        "          for k in range (j+1, q[2]+1):\n",
        "            sum = sum + A[j]*A[k]  \n",
        "        print (sum)\n",
        "      else:\n",
        "        x = q[0]\n",
        "        y = x[1]\n",
        "        A[x] = q[3]\n",
        "    return []\n",
        "\n",
        "N,Q = map(int,input().split())\n",
        "A = list(map(int, input().split()))\n",
        "query = [list(map(int, input().split())) for i in range(Q)]\n",
        "out_ = solve(N, Q, A, query)\n",
        "print ('\\n'.join(map(str, out_)))\n"
      ],
      "execution_count": null,
      "outputs": [
        {
          "output_type": "error",
          "ename": "KeyboardInterrupt",
          "evalue": "ignored",
          "traceback": [
            "\u001b[0;31m---------------------------------------------------------------------------\u001b[0m",
            "\u001b[0;31mKeyboardInterrupt\u001b[0m                         Traceback (most recent call last)",
            "\u001b[0;32m/usr/local/lib/python3.7/dist-packages/ipykernel/kernelbase.py\u001b[0m in \u001b[0;36m_input_request\u001b[0;34m(self, prompt, ident, parent, password)\u001b[0m\n\u001b[1;32m    728\u001b[0m             \u001b[0;32mtry\u001b[0m\u001b[0;34m:\u001b[0m\u001b[0;34m\u001b[0m\u001b[0;34m\u001b[0m\u001b[0m\n\u001b[0;32m--> 729\u001b[0;31m                 \u001b[0mident\u001b[0m\u001b[0;34m,\u001b[0m \u001b[0mreply\u001b[0m \u001b[0;34m=\u001b[0m \u001b[0mself\u001b[0m\u001b[0;34m.\u001b[0m\u001b[0msession\u001b[0m\u001b[0;34m.\u001b[0m\u001b[0mrecv\u001b[0m\u001b[0;34m(\u001b[0m\u001b[0mself\u001b[0m\u001b[0;34m.\u001b[0m\u001b[0mstdin_socket\u001b[0m\u001b[0;34m,\u001b[0m \u001b[0;36m0\u001b[0m\u001b[0;34m)\u001b[0m\u001b[0;34m\u001b[0m\u001b[0;34m\u001b[0m\u001b[0m\n\u001b[0m\u001b[1;32m    730\u001b[0m             \u001b[0;32mexcept\u001b[0m \u001b[0mException\u001b[0m\u001b[0;34m:\u001b[0m\u001b[0;34m\u001b[0m\u001b[0;34m\u001b[0m\u001b[0m\n",
            "\u001b[0;32m/usr/local/lib/python3.7/dist-packages/jupyter_client/session.py\u001b[0m in \u001b[0;36mrecv\u001b[0;34m(self, socket, mode, content, copy)\u001b[0m\n\u001b[1;32m    802\u001b[0m         \u001b[0;32mtry\u001b[0m\u001b[0;34m:\u001b[0m\u001b[0;34m\u001b[0m\u001b[0;34m\u001b[0m\u001b[0m\n\u001b[0;32m--> 803\u001b[0;31m             \u001b[0mmsg_list\u001b[0m \u001b[0;34m=\u001b[0m \u001b[0msocket\u001b[0m\u001b[0;34m.\u001b[0m\u001b[0mrecv_multipart\u001b[0m\u001b[0;34m(\u001b[0m\u001b[0mmode\u001b[0m\u001b[0;34m,\u001b[0m \u001b[0mcopy\u001b[0m\u001b[0;34m=\u001b[0m\u001b[0mcopy\u001b[0m\u001b[0;34m)\u001b[0m\u001b[0;34m\u001b[0m\u001b[0;34m\u001b[0m\u001b[0m\n\u001b[0m\u001b[1;32m    804\u001b[0m         \u001b[0;32mexcept\u001b[0m \u001b[0mzmq\u001b[0m\u001b[0;34m.\u001b[0m\u001b[0mZMQError\u001b[0m \u001b[0;32mas\u001b[0m \u001b[0me\u001b[0m\u001b[0;34m:\u001b[0m\u001b[0;34m\u001b[0m\u001b[0;34m\u001b[0m\u001b[0m\n",
            "\u001b[0;32m/usr/local/lib/python3.7/dist-packages/zmq/sugar/socket.py\u001b[0m in \u001b[0;36mrecv_multipart\u001b[0;34m(self, flags, copy, track)\u001b[0m\n\u001b[1;32m    582\u001b[0m         \"\"\"\n\u001b[0;32m--> 583\u001b[0;31m         \u001b[0mparts\u001b[0m \u001b[0;34m=\u001b[0m \u001b[0;34m[\u001b[0m\u001b[0mself\u001b[0m\u001b[0;34m.\u001b[0m\u001b[0mrecv\u001b[0m\u001b[0;34m(\u001b[0m\u001b[0mflags\u001b[0m\u001b[0;34m,\u001b[0m \u001b[0mcopy\u001b[0m\u001b[0;34m=\u001b[0m\u001b[0mcopy\u001b[0m\u001b[0;34m,\u001b[0m \u001b[0mtrack\u001b[0m\u001b[0;34m=\u001b[0m\u001b[0mtrack\u001b[0m\u001b[0;34m)\u001b[0m\u001b[0;34m]\u001b[0m\u001b[0;34m\u001b[0m\u001b[0;34m\u001b[0m\u001b[0m\n\u001b[0m\u001b[1;32m    584\u001b[0m         \u001b[0;31m# have first part already, only loop while more to receive\u001b[0m\u001b[0;34m\u001b[0m\u001b[0;34m\u001b[0m\u001b[0;34m\u001b[0m\u001b[0m\n",
            "\u001b[0;32mzmq/backend/cython/socket.pyx\u001b[0m in \u001b[0;36mzmq.backend.cython.socket.Socket.recv\u001b[0;34m()\u001b[0m\n",
            "\u001b[0;32mzmq/backend/cython/socket.pyx\u001b[0m in \u001b[0;36mzmq.backend.cython.socket.Socket.recv\u001b[0;34m()\u001b[0m\n",
            "\u001b[0;32mzmq/backend/cython/socket.pyx\u001b[0m in \u001b[0;36mzmq.backend.cython.socket._recv_copy\u001b[0;34m()\u001b[0m\n",
            "\u001b[0;32m/usr/local/lib/python3.7/dist-packages/zmq/backend/cython/checkrc.pxd\u001b[0m in \u001b[0;36mzmq.backend.cython.checkrc._check_rc\u001b[0;34m()\u001b[0m\n",
            "\u001b[0;31mKeyboardInterrupt\u001b[0m: ",
            "\nDuring handling of the above exception, another exception occurred:\n",
            "\u001b[0;31mKeyboardInterrupt\u001b[0m                         Traceback (most recent call last)",
            "\u001b[0;32m<ipython-input-5-63476a6066ac>\u001b[0m in \u001b[0;36m<module>\u001b[0;34m()\u001b[0m\n\u001b[1;32m     17\u001b[0m     \u001b[0;32mreturn\u001b[0m \u001b[0;34m[\u001b[0m\u001b[0;34m]\u001b[0m\u001b[0;34m\u001b[0m\u001b[0;34m\u001b[0m\u001b[0m\n\u001b[1;32m     18\u001b[0m \u001b[0;34m\u001b[0m\u001b[0m\n\u001b[0;32m---> 19\u001b[0;31m \u001b[0mN\u001b[0m\u001b[0;34m,\u001b[0m\u001b[0mQ\u001b[0m \u001b[0;34m=\u001b[0m \u001b[0mmap\u001b[0m\u001b[0;34m(\u001b[0m\u001b[0mint\u001b[0m\u001b[0;34m,\u001b[0m\u001b[0minput\u001b[0m\u001b[0;34m(\u001b[0m\u001b[0;34m)\u001b[0m\u001b[0;34m.\u001b[0m\u001b[0msplit\u001b[0m\u001b[0;34m(\u001b[0m\u001b[0;34m)\u001b[0m\u001b[0;34m)\u001b[0m\u001b[0;34m\u001b[0m\u001b[0;34m\u001b[0m\u001b[0m\n\u001b[0m\u001b[1;32m     20\u001b[0m \u001b[0mA\u001b[0m \u001b[0;34m=\u001b[0m \u001b[0mlist\u001b[0m\u001b[0;34m(\u001b[0m\u001b[0mmap\u001b[0m\u001b[0;34m(\u001b[0m\u001b[0mint\u001b[0m\u001b[0;34m,\u001b[0m \u001b[0minput\u001b[0m\u001b[0;34m(\u001b[0m\u001b[0;34m)\u001b[0m\u001b[0;34m.\u001b[0m\u001b[0msplit\u001b[0m\u001b[0;34m(\u001b[0m\u001b[0;34m)\u001b[0m\u001b[0;34m)\u001b[0m\u001b[0;34m)\u001b[0m\u001b[0;34m\u001b[0m\u001b[0;34m\u001b[0m\u001b[0m\n\u001b[1;32m     21\u001b[0m \u001b[0mquery\u001b[0m \u001b[0;34m=\u001b[0m \u001b[0;34m[\u001b[0m\u001b[0mlist\u001b[0m\u001b[0;34m(\u001b[0m\u001b[0mmap\u001b[0m\u001b[0;34m(\u001b[0m\u001b[0mint\u001b[0m\u001b[0;34m,\u001b[0m \u001b[0minput\u001b[0m\u001b[0;34m(\u001b[0m\u001b[0;34m)\u001b[0m\u001b[0;34m.\u001b[0m\u001b[0msplit\u001b[0m\u001b[0;34m(\u001b[0m\u001b[0;34m)\u001b[0m\u001b[0;34m)\u001b[0m\u001b[0;34m)\u001b[0m \u001b[0;32mfor\u001b[0m \u001b[0mi\u001b[0m \u001b[0;32min\u001b[0m \u001b[0mrange\u001b[0m\u001b[0;34m(\u001b[0m\u001b[0mQ\u001b[0m\u001b[0;34m)\u001b[0m\u001b[0;34m]\u001b[0m\u001b[0;34m\u001b[0m\u001b[0;34m\u001b[0m\u001b[0m\n",
            "\u001b[0;32m/usr/local/lib/python3.7/dist-packages/ipykernel/kernelbase.py\u001b[0m in \u001b[0;36mraw_input\u001b[0;34m(self, prompt)\u001b[0m\n\u001b[1;32m    702\u001b[0m             \u001b[0mself\u001b[0m\u001b[0;34m.\u001b[0m\u001b[0m_parent_ident\u001b[0m\u001b[0;34m,\u001b[0m\u001b[0;34m\u001b[0m\u001b[0;34m\u001b[0m\u001b[0m\n\u001b[1;32m    703\u001b[0m             \u001b[0mself\u001b[0m\u001b[0;34m.\u001b[0m\u001b[0m_parent_header\u001b[0m\u001b[0;34m,\u001b[0m\u001b[0;34m\u001b[0m\u001b[0;34m\u001b[0m\u001b[0m\n\u001b[0;32m--> 704\u001b[0;31m             \u001b[0mpassword\u001b[0m\u001b[0;34m=\u001b[0m\u001b[0;32mFalse\u001b[0m\u001b[0;34m,\u001b[0m\u001b[0;34m\u001b[0m\u001b[0;34m\u001b[0m\u001b[0m\n\u001b[0m\u001b[1;32m    705\u001b[0m         )\n\u001b[1;32m    706\u001b[0m \u001b[0;34m\u001b[0m\u001b[0m\n",
            "\u001b[0;32m/usr/local/lib/python3.7/dist-packages/ipykernel/kernelbase.py\u001b[0m in \u001b[0;36m_input_request\u001b[0;34m(self, prompt, ident, parent, password)\u001b[0m\n\u001b[1;32m    732\u001b[0m             \u001b[0;32mexcept\u001b[0m \u001b[0mKeyboardInterrupt\u001b[0m\u001b[0;34m:\u001b[0m\u001b[0;34m\u001b[0m\u001b[0;34m\u001b[0m\u001b[0m\n\u001b[1;32m    733\u001b[0m                 \u001b[0;31m# re-raise KeyboardInterrupt, to truncate traceback\u001b[0m\u001b[0;34m\u001b[0m\u001b[0;34m\u001b[0m\u001b[0;34m\u001b[0m\u001b[0m\n\u001b[0;32m--> 734\u001b[0;31m                 \u001b[0;32mraise\u001b[0m \u001b[0mKeyboardInterrupt\u001b[0m\u001b[0;34m\u001b[0m\u001b[0;34m\u001b[0m\u001b[0m\n\u001b[0m\u001b[1;32m    735\u001b[0m             \u001b[0;32melse\u001b[0m\u001b[0;34m:\u001b[0m\u001b[0;34m\u001b[0m\u001b[0;34m\u001b[0m\u001b[0m\n\u001b[1;32m    736\u001b[0m                 \u001b[0;32mbreak\u001b[0m\u001b[0;34m\u001b[0m\u001b[0;34m\u001b[0m\u001b[0m\n",
            "\u001b[0;31mKeyboardInterrupt\u001b[0m: "
          ]
        }
      ]
    }
  ]
}